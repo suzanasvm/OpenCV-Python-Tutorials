{
 "cells": [
  {
   "cell_type": "markdown",
   "metadata": {},
   "source": [
    "## Write an image"
   ]
  },
  {
   "cell_type": "markdown",
   "metadata": {},
   "source": [
    "#### Goals\n",
    "\n",
    "<p>• Use the function cv2.imwrite() to save an image\n",
    "<p> First argument is the file name, second argument is the image you want to save."
   ]
  },
  {
   "cell_type": "code",
   "execution_count": null,
   "metadata": {},
   "outputs": [],
   "source": [
    "import numpy as np\n",
    "import cv2\n",
    "\n",
    "# Load an color image in grayscale\n",
    "img = cv2.imread('neymar.jpg',0)\n",
    "\n",
    "#Display the image\n",
    "#First argument is a window name which is a string. Second argument is our image. \n",
    "cv2.imshow('image',img)\n",
    "\n",
    "#Keyboard binding function.\n",
    "k = cv2.waitKey(0) & 0xFF\n",
    "\n",
    "s\n",
    "#Wait for ESC key to exit\n",
    "if k == 27:\n",
    "    cv2.destroyAllWindows()\n",
    "#Wait for 's' key to save and exit\n",
    "elif k == ord('s'): \n",
    "    cv2.imwrite('neymarGray.png',img)\n",
    "\n",
    "#Simply destroys all the windows we created. \n",
    "cv2.destroyAllWindows()\n",
    "\n"
   ]
  }
 ],
 "metadata": {
  "kernelspec": {
   "display_name": "Python 2",
   "language": "python",
   "name": "python2"
  },
  "language_info": {
   "codemirror_mode": {
    "name": "ipython",
    "version": 2
   },
   "file_extension": ".py",
   "mimetype": "text/x-python",
   "name": "python",
   "nbconvert_exporter": "python",
   "pygments_lexer": "ipython2",
   "version": "2.7.13"
  }
 },
 "nbformat": 4,
 "nbformat_minor": 2
}
