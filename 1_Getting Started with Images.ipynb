{
 "cells": [
  {
   "cell_type": "markdown",
   "metadata": {},
   "source": [
    "## Getting Started with Images\n",
    "\n",
    "#### Goals\n",
    "<p>• Here, you will learn how to read an image, how to display it and how to save it back\n",
    "<p>• You will learn these functions : cv2.imread(), cv2.imshow() , cv2.imwrite()\n",
    "<p>• Optionally, you will learn how to display images with Matplotlib\n",
    "\n",
    "#### Using OpenCV: Read an image\n",
    "\n",
    "<p>Use the function **cv2.imread()** to read an image. The image should be in the working directory or a full path of image should be given.\n",
    "<p>Second argument is a flag which specifies the way image should be read.\n",
    "<p>• cv2.IMREAD_COLOR : Loads a color image. Any transparency of image will be neglected. It is the default flag.\n",
    "<p>• cv2.IMREAD_GRAYSCALE : Loads image in grayscale mode\n",
    "<p>• cv2.IMREAD_UNCHANGED : Loads image as such including alpha channel"
   ]
  },
  {
   "cell_type": "code",
   "execution_count": 1,
   "metadata": {},
   "outputs": [],
   "source": [
    "import numpy as np\n",
    "import cv2\n",
    "import matplotlib.pyplot as plt\n",
    "from IPython import display\n",
    "\n",
    "# Load an color image in grayscale\n",
    "img = cv2.imread('neymar.jpg',0)\n",
    "#Display the image\n",
    "#First argument is a window name which is a string. second argument is our image. \n",
    "cv2.imshow('image',img)\n",
    "#Keyboard binding function.\n",
    "cv2.waitKey(0)\n",
    "cv2.destroyAllWindows()\n",
    "\n"
   ]
  }
 ],
 "metadata": {
  "kernelspec": {
   "display_name": "Python 2",
   "language": "python",
   "name": "python2"
  },
  "language_info": {
   "codemirror_mode": {
    "name": "ipython",
    "version": 2
   },
   "file_extension": ".py",
   "mimetype": "text/x-python",
   "name": "python",
   "nbconvert_exporter": "python",
   "pygments_lexer": "ipython2",
   "version": "2.7.13"
  }
 },
 "nbformat": 4,
 "nbformat_minor": 2
}
