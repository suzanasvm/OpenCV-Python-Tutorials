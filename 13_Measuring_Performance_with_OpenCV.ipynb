{
 "cells": [
  {
   "cell_type": "markdown",
   "metadata": {},
   "source": [
    "## Performance Measurement and Improvement Techniques\n",
    "\n",
    "#### Goals\n",
    "<p> In image processing, since you are dealing with large number of operations per second, it is mandatory that your code\n",
    "is not only providing the correct solution, but also in the fastest manner. You will learn:\n",
    "<p>• To measure the performance of your code.\n",
    "<p>• Some tips to improve the performance of your code.\n",
    "<p>• You will see these functions : cv2.getTickCount, cv2.getTickFrequency etc.\n",
    "Apart from OpenCV, Python also provides a module time which is helpful in measuring the time of execution. Another\n",
    "module profile helps to get detailed report on the code, like how much time each function in the code took, how many\n",
    "times the function was called etc. But, if you are using IPython, all these features are integrated in an user-friendly\n",
    "manner. We will see some important ones, and for more details, check links in Additional Resouces section.\n",
    "\n",
    "\n",
    "#### The Functions\n",
    "\n",
    "<p>**cv2.getTickCount** function returns the number of clock-cycles after a reference event (like the moment machine was\n",
    "switched ON) to the moment this function is called. So if you call it before and after the function execution, you get\n",
    "number of clock-cycles used to execute a function.\n",
    "<p>**cv2.getTickFrequency** function returns the frequency of clock-cycles, or the number of clock-cycles per second. So\n",
    "to find the time of execution in seconds, you can do following:"
   ]
  },
  {
   "cell_type": "code",
   "execution_count": 47,
   "metadata": {},
   "outputs": [
    {
     "name": "stdout",
     "output_type": "stream",
     "text": [
      "1.33977951444\n"
     ]
    }
   ],
   "source": [
    "import cv2\n",
    "import numpy as np\n",
    "\n",
    "img1 = cv2.imread('img/neymar.jpg')\n",
    "e1 = cv2.getTickCount()\n",
    "for i in xrange(5,49,2):\n",
    "    img1 = cv2.medianBlur(img1,i)\n",
    "e2 = cv2.getTickCount()\n",
    "t = (e2 - e1)/cv2.getTickFrequency()\n",
    "print t\n",
    "# Result I got is 0.521107655 seconds"
   ]
  },
  {
   "cell_type": "markdown",
   "metadata": {},
   "source": [
    "We will demonstrate with following example. Following example apply median filtering with a kernel of odd size\n",
    "ranging from 5 to 49.\n",
    "\n",
    "**Note:** You can do the same with time module. Instead of cv2.getTickCount, use time.time() function.\n",
    "Then take the difference of two times."
   ]
  },
  {
   "cell_type": "markdown",
   "metadata": {},
   "source": [
    "## Default Optimization in OpenCV\n",
    "\n",
    "<p>Many of the OpenCV functions are optimized using SSE2, AVX etc. It contains unoptimized code also. So if our\n",
    "system support these features, we should exploit them (almost all modern day processors support them). It is enabled\n",
    "by default while compiling. So OpenCV runs the optimized code if it is enabled, else it runs the unoptimized code.\n",
    "You can use cv2.useOptimized() to check if it is enabled/disabled and cv2.setUseOptimized() to enable/disable it.\n",
    "Let’s see a simple example."
   ]
  },
  {
   "cell_type": "code",
   "execution_count": 48,
   "metadata": {},
   "outputs": [
    {
     "name": "stdout",
     "output_type": "stream",
     "text": [
      "10 loops, best of 3: 57.6 ms per loop\n",
      "10 loops, best of 3: 58.7 ms per loop\n"
     ]
    }
   ],
   "source": [
    "# check if optimization is enabled\n",
    "cv2.useOptimized()\n",
    "\n",
    "%timeit res = cv2.medianBlur(img1,49)\n",
    "\n",
    "# Disable it\n",
    "cv2.setUseOptimized(False)\n",
    "cv2.useOptimized()\n",
    "\n",
    "%timeit res = cv2.medianBlur(img1,49)\n"
   ]
  },
  {
   "cell_type": "markdown",
   "metadata": {},
   "source": [
    "See, optimized median filtering is ~2x faster than unoptimized version. If you check its source, you can see median\n",
    "filtering is SIMD optimized. So you can use this to enable optimization at the top of your code (remember it is enabled\n",
    "by default)."
   ]
  },
  {
   "cell_type": "markdown",
   "metadata": {},
   "source": [
    "## Measuring Performance in IPython\n",
    "\n",
    "<p>Sometimes you may need to compare the performance of two similar operations. IPython gives you a magic command\n",
    "%timeit to perform this. It runs the code several times to get more accurate results. Once again, they are suitable to\n",
    "measure single line codes.\n",
    "<p>For example, do you know which of the following addition operation is more better, x = 5; y = x**2, x =\n",
    "5; y = x*x, x = np.uint8([5]); y = x*x or y = np.square(x) ? We will find it with %timeit in\n",
    "IPython shell."
   ]
  },
  {
   "cell_type": "code",
   "execution_count": 49,
   "metadata": {},
   "outputs": [
    {
     "name": "stdout",
     "output_type": "stream",
     "text": [
      "The slowest run took 16.03 times longer than the fastest. This could mean that an intermediate result is being cached.\n",
      "10000000 loops, best of 3: 64 ns per loop\n",
      "10000000 loops, best of 3: 74.3 ns per loop\n",
      "The slowest run took 24.80 times longer than the fastest. This could mean that an intermediate result is being cached.\n",
      "1000000 loops, best of 3: 786 ns per loop\n",
      "The slowest run took 10.76 times longer than the fastest. This could mean that an intermediate result is being cached.\n",
      "1000000 loops, best of 3: 1.29 µs per loop\n"
     ]
    }
   ],
   "source": [
    "x = 5\n",
    "%timeit y=x**2\n",
    "\n",
    "%timeit y=x*x\n",
    "\n",
    "z = np.uint8([5])\n",
    "%timeit y=z*z\n",
    "\n",
    "%timeit y=np.square(z)\n"
   ]
  },
  {
   "cell_type": "markdown",
   "metadata": {},
   "source": [
    "You can see that, x = 5 ; y = x*x is fastest and it is around 20x faster compared to Numpy. If you consider the\n",
    "array creation also, it may reach upto 100x faster. Cool, right? (Numpy devs are working on this issue)<p>\n",
    "\n",
    "<p>**Note:** Python scalar operations are faster than Numpy scalar operations. So for operations including one or two\n",
    "elements, Python scalar is better than Numpy arrays. Numpy takes advantage when size of array is a little bit bigger.\n",
    "\n"
   ]
  }
 ],
 "metadata": {
  "kernelspec": {
   "display_name": "Python 2",
   "language": "python",
   "name": "python2"
  },
  "language_info": {
   "codemirror_mode": {
    "name": "ipython",
    "version": 2
   },
   "file_extension": ".py",
   "mimetype": "text/x-python",
   "name": "python",
   "nbconvert_exporter": "python",
   "pygments_lexer": "ipython2",
   "version": "2.7.13"
  }
 },
 "nbformat": 4,
 "nbformat_minor": 2
}
